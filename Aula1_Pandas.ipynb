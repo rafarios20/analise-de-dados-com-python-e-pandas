{
  "nbformat": 4,
  "nbformat_minor": 0,
  "metadata": {
    "colab": {
      "name": "Aula1_Pandas.ipynb",
      "provenance": [],
      "mount_file_id": "1K-l0CSFbtTErfRiXvuWqlSoQfMvMh9x4",
      "authorship_tag": "ABX9TyNIkzcQNVjms5Yb23ai8wyb"
    },
    "kernelspec": {
      "name": "python3",
      "display_name": "Python 3"
    },
    "language_info": {
      "name": "python"
    }
  },
  "cells": [
    {
      "cell_type": "markdown",
      "metadata": {
        "id": "M0rj0E_bNMoJ"
      },
      "source": [
        "**Python para análise de dados(Pandas)**"
      ]
    },
    {
      "cell_type": "code",
      "metadata": {
        "id": "0o7ZrOx0NTFX"
      },
      "source": [
        "#Importando a biblioteca pandas\n",
        "import pandas as pd"
      ],
      "execution_count": null,
      "outputs": []
    },
    {
      "cell_type": "code",
      "metadata": {
        "id": "CE1Z-idmOJAt"
      },
      "source": [
        "df = pd.read_csv(\"/content/drive/MyDrive/net_users_num.csv\")"
      ],
      "execution_count": null,
      "outputs": []
    },
    {
      "cell_type": "code",
      "metadata": {
        "id": "egQCNY-bQDgX"
      },
      "source": [
        "#Visualizando as 5 primeiras linhas\n",
        "df.head()"
      ],
      "execution_count": null,
      "outputs": []
    },
    {
      "cell_type": "code",
      "metadata": {
        "id": "yFtyyJwCQEn2"
      },
      "source": [
        "#Renomeando a coluna \"country\" para \"País\"\n",
        "df = df.rename(columns={'country':'Pais'})"
      ],
      "execution_count": null,
      "outputs": []
    },
    {
      "cell_type": "code",
      "metadata": {
        "id": "gfKlMyWcRc_-"
      },
      "source": [
        "df.head(10)"
      ],
      "execution_count": null,
      "outputs": []
    },
    {
      "cell_type": "code",
      "metadata": {
        "id": "7nlLjKWoRems"
      },
      "source": [
        "#Total de linhas e colunas\n",
        "df.shape"
      ],
      "execution_count": null,
      "outputs": []
    },
    {
      "cell_type": "code",
      "metadata": {
        "id": "zEgxjgBqRlZg"
      },
      "source": [
        "df.columns"
      ],
      "execution_count": null,
      "outputs": []
    },
    {
      "cell_type": "code",
      "metadata": {
        "id": "FuS3Hy4RRvjr"
      },
      "source": [
        "df.dtypes"
      ],
      "execution_count": null,
      "outputs": []
    },
    {
      "cell_type": "code",
      "metadata": {
        "id": "9w4mW7oFR0dS"
      },
      "source": [
        "df.tail(15)"
      ],
      "execution_count": null,
      "outputs": []
    },
    {
      "cell_type": "code",
      "metadata": {
        "id": "RInyxJ2xSIJx"
      },
      "source": [
        "df.describe()"
      ],
      "execution_count": null,
      "outputs": []
    },
    {
      "cell_type": "code",
      "metadata": {
        "id": "wF7Wl3BiSV0B"
      },
      "source": [
        "df['Pais'].unique()"
      ],
      "execution_count": null,
      "outputs": []
    },
    {
      "cell_type": "code",
      "metadata": {
        "id": "Twz_lz6jS7BR"
      },
      "source": [
        "Brazil = df.loc[df['Pais'] == 'Brazil']"
      ],
      "execution_count": null,
      "outputs": []
    },
    {
      "cell_type": "code",
      "metadata": {
        "id": "VXWi_fKMTNyY"
      },
      "source": [
        "Brazil.head()"
      ],
      "execution_count": null,
      "outputs": []
    },
    {
      "cell_type": "code",
      "metadata": {
        "id": "DoJuOQhTTQRX"
      },
      "source": [
        "#Usuários de internet no ano de 2018 por país\n",
        "df.groupby('Pais')['2018'].unique()"
      ],
      "execution_count": null,
      "outputs": []
    }
  ]
}